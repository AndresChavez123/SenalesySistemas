{
  "nbformat": 4,
  "nbformat_minor": 0,
  "metadata": {
    "colab": {
      "provenance": [],
      "authorship_tag": "ABX9TyMcqWvsiryMrZIU7vRCazcE",
      "include_colab_link": true
    },
    "kernelspec": {
      "name": "python3",
      "display_name": "Python 3"
    },
    "language_info": {
      "name": "python"
    }
  },
  "cells": [
    {
      "cell_type": "markdown",
      "metadata": {
        "id": "view-in-github",
        "colab_type": "text"
      },
      "source": [
        "<a href=\"https://colab.research.google.com/github/AndresChavez123/SenalesySistemas/blob/main/Parcial1_Ejercicio3.ipynb\" target=\"_parent\"><img src=\"https://colab.research.google.com/assets/colab-badge.svg\" alt=\"Open In Colab\"/></a>"
      ]
    },
    {
      "cell_type": "markdown",
      "source": [
        "𝑥\n",
        "2\n",
        "(\n",
        "𝑡\n",
        ")\n",
        "=\n",
        "1\n",
        "x\n",
        "2\n",
        "​\n",
        " (t)=1 para\n",
        "𝑡\n",
        "∈\n",
        "[\n",
        "0\n",
        ",\n",
        "𝑇\n",
        "/\n",
        "4\n",
        ")\n",
        "t∈[0,T/4)\n",
        "\n",
        "𝑥\n",
        "2\n",
        "(\n",
        "𝑡\n",
        ")\n",
        "=\n",
        "−\n",
        "1\n",
        "x\n",
        "2\n",
        "​\n",
        " (t)=−1 para\n",
        "𝑡\n",
        "∈\n",
        "[\n",
        "𝑇\n",
        "/\n",
        "4\n",
        ",\n",
        "3\n",
        "𝑇\n",
        "/\n",
        "4\n",
        ")\n",
        "t∈[T/4,3T/4)\n",
        "\n",
        "𝑥\n",
        "2\n",
        "(\n",
        "𝑡\n",
        ")\n",
        "=\n",
        "1\n",
        "x\n",
        "2\n",
        "​\n",
        " (t)=1 para\n",
        "𝑡\n",
        "∈\n",
        "[\n",
        "3\n",
        "𝑇\n",
        "/\n",
        "4\n",
        ",\n",
        "𝑇\n",
        ")\n",
        "t∈[3T/4,T)\n",
        "\n",
        "El objetivo es encontrar la expresión simbólica del error cuadrático medio en un period"
      ],
      "metadata": {
        "id": "Qc7O9bf2Uy-m"
      }
    },
    {
      "cell_type": "code",
      "source": [
        "import sympy as sp\n",
        "\n",
        "# Paso 1: Definimos las variables simbólicas\n",
        "t, T, A = sp.symbols('t T A', real=True, positive=True)\n",
        "w0 = 2 * sp.pi / T  # Frecuencia fundamental\n",
        "\n",
        "# Paso 2: Definimos la señal x1(t) = A*cos(w0*t)\n",
        "x1 = A * sp.cos(w0 * t)\n",
        "\n",
        "# Paso 3: Definimos la señal por tramos x2(t) en 3 intervalos\n",
        "#         x2 = 1 en [0, T/4)\n",
        "#         x2 = -1 en [T/4, 3T/4)\n",
        "#         x2 = 1 en [3T/4, T)\n",
        "x2_1, x2_2, x2_3 = 1, -1, 1\n",
        "\n",
        "# Paso 4: Calculamos el cuadrado del error (x1 - x2)^2 en cada intervalo\n",
        "expr1 = (x1 - x2_1)**2\n",
        "expr2 = (x1 - x2_2)**2\n",
        "expr3 = (x1 - x2_3)**2\n",
        "\n",
        "# Paso 5: Integramos (x1 - x2)^2 sobre cada intervalo\n",
        "I1 = sp.integrate(expr1, (t, 0, T/4))\n",
        "I2 = sp.integrate(expr2, (t, T/4, 3*T/4))\n",
        "I3 = sp.integrate(expr3, (t, 3*T/4, T))\n",
        "\n",
        "# Paso 6: Sumamos las integrales y normalizamos sobre el periodo T\n",
        "d = (I1 + I2 + I3) / T\n",
        "\n",
        "# Paso 7: Simplificamos la expresión final\n",
        "d_simplificada = sp.simplify(d)\n",
        "\n",
        "# Resultado final: error cuadrático medio simbólico\n",
        "d_simplificada\n",
        "\n"
      ],
      "metadata": {
        "colab": {
          "base_uri": "https://localhost:8080/",
          "height": 54
        },
        "id": "43a8hKYNq2rp",
        "outputId": "7ccff0c3-da66-4cdd-c3ac-1f42cb7c15c0"
      },
      "execution_count": null,
      "outputs": [
        {
          "output_type": "execute_result",
          "data": {
            "text/plain": [
              "A**2/2 - 4*A/pi + 1"
            ],
            "text/latex": "$\\displaystyle \\frac{A^{2}}{2} - \\frac{4 A}{\\pi} + 1$"
          },
          "metadata": {},
          "execution_count": 3
        }
      ]
    },
    {
      "cell_type": "markdown",
      "source": [
        "El resultado simbólico d_simplificada será una expresión en términos de\n",
        "\n",
        "A y\n",
        "T, típicamente del tipo:\n",
        "\n",
        "𝑑\n",
        "(\n",
        "𝐴\n",
        ",\n",
        "𝑇\n",
        ")\n",
        "=\n",
        "constante\n",
        "⋅\n",
        "𝐴\n",
        "2\n",
        "+\n",
        "otra constante\n"
      ],
      "metadata": {
        "id": "N7JiubMTVWzH"
      }
    },
    {
      "cell_type": "markdown",
      "source": [
        "La expresión simbólica exacta de la distancia media.\n",
        "\n",
        "El valor óptimo de amplitud\n",
        "𝐴\n",
        "A que minimiza la distancia.\n",
        "\n",
        "El valor numérico mínimo de la distancia media cuando\n",
        "𝑇\n",
        "=\n",
        "1\n",
        "T=1."
      ],
      "metadata": {
        "id": "jyitW86fV73t"
      }
    },
    {
      "cell_type": "code",
      "source": [
        "import sympy as sp\n",
        "\n",
        "# Paso 1: Declaramos las variables simbólicas\n",
        "# t: tiempo, T: periodo, A: amplitud de x1(t)\n",
        "t, T, A = sp.symbols('t T A', real=True, positive=True)\n",
        "\n",
        "# Frecuencia fundamental\n",
        "w0 = 2 * sp.pi / T\n",
        "\n",
        "# Paso 2: Definimos x1(t) como una señal cosenoidal\n",
        "x1 = A * sp.cos(w0 * t)\n",
        "\n",
        "# Definimos x2(t) como una señal periódica por tramos en [0, T]\n",
        "# x2 vale 1 en el primer y último cuarto, y -1 en el medio\n",
        "x2_1 = 1     # en [0, T/4)\n",
        "x2_2 = -1    # en [T/4, 3T/4)\n",
        "x2_3 = 1     # en [3T/4, T)\n",
        "\n",
        "# Paso 3: Calculamos el cuadrado del error (x1 - x2)^2 por tramos\n",
        "expr1 = (x1 - x2_1)**2\n",
        "expr2 = (x1 - x2_2)**2\n",
        "expr3 = (x1 - x2_3)**2\n",
        "\n",
        "# Paso 4: Calculamos la integral de cada tramo\n",
        "# Estas integrales representan la energía del error en cada intervalo\n",
        "I1 = sp.integrate(expr1, (t, 0, T/4))\n",
        "I2 = sp.integrate(expr2, (t, T/4, 3*T/4))\n",
        "I3 = sp.integrate(expr3, (t, 3*T/4, T))\n",
        "\n",
        "# Paso 5: Calculamos la distancia media como la potencia media del error\n",
        "d = (I1 + I2 + I3) / T\n",
        "\n",
        "# Simplificamos la expresión para una mejor visualización\n",
        "d_simplificada = sp.simplify(d)\n",
        "\n",
        "# Mostramos la expresión de la distancia media simbólica\n",
        "print(\"Distancia media simbólica d(A, T):\")\n",
        "sp.pprint(d_simplificada)\n",
        "\n",
        "# Paso 6: Derivamos respecto a A para encontrar la mejor aproximación (mínimo error)\n",
        "dA = sp.diff(d_simplificada, A)\n",
        "A_opt = sp.solve(dA, A)[0]  # Solución para A que minimiza la distancia\n",
        "\n",
        "print(\"\\nAmplitud A óptima que minimiza la distancia:\")\n",
        "sp.pprint(A_opt)\n",
        "\n",
        "# Paso 7: Evaluamos el resultado numéricamente para T = 1\n",
        "T_val = 1\n",
        "d_num = d_simplificada.subs({T: T_val, A: A_opt}).evalf()\n",
        "\n",
        "# Mostramos el valor de la distancia media mínima\n",
        "print(f\"\\nDistancia mínima numérica para T = 1: {d_num:.4f}\")\n"
      ],
      "metadata": {
        "colab": {
          "base_uri": "https://localhost:8080/"
        },
        "id": "vCFZTBBdVoi2",
        "outputId": "8bcc5a17-201e-4c03-ce4b-97daca49a7c1"
      },
      "execution_count": null,
      "outputs": [
        {
          "output_type": "stream",
          "name": "stdout",
          "text": [
            "Distancia media simbólica d(A, T):\n",
            " 2          \n",
            "A    4⋅A    \n",
            "── - ─── + 1\n",
            "2     π     \n",
            "\n",
            "Amplitud A óptima que minimiza la distancia:\n",
            "4\n",
            "─\n",
            "π\n",
            "\n",
            "Distancia mínima numérica para T = 1: 0.1894\n"
          ]
        }
      ]
    }
  ]
}