{
  "nbformat": 4,
  "nbformat_minor": 0,
  "metadata": {
    "colab": {
      "provenance": [],
      "authorship_tag": "ABX9TyPeorviud4ycq1kSEp128SZ",
      "include_colab_link": true
    },
    "kernelspec": {
      "name": "python3",
      "display_name": "Python 3"
    },
    "language_info": {
      "name": "python"
    }
  },
  "cells": [
    {
      "cell_type": "markdown",
      "metadata": {
        "id": "view-in-github",
        "colab_type": "text"
      },
      "source": [
        "<a href=\"https://colab.research.google.com/github/AndresChavez123/SenalesySistemas/blob/main/parcial2_app_py.ipynb\" target=\"_parent\"><img src=\"https://colab.research.google.com/assets/colab-badge.svg\" alt=\"Open In Colab\"/></a>"
      ]
    },
    {
      "cell_type": "code",
      "execution_count": 13,
      "metadata": {
        "colab": {
          "base_uri": "https://localhost:8080/"
        },
        "id": "Sfw1Xs8Mx6dP",
        "outputId": "e2c9d525-227b-4d74-c479-433385f64e31"
      },
      "outputs": [
        {
          "output_type": "stream",
          "name": "stdout",
          "text": [
            "\u001b[31mERROR: Ignored the following versions that require a different python version: 0.55.2 Requires-Python <3.5\u001b[0m\u001b[31m\n",
            "\u001b[0m\u001b[31mERROR: Could not find a version that satisfies the requirement localtunnel (from versions: none)\u001b[0m\u001b[31m\n",
            "\u001b[0m\u001b[31mERROR: No matching distribution found for localtunnel\u001b[0m\u001b[31m\n",
            "\u001b[0m"
          ]
        }
      ],
      "source": [
        "# =========================================================\n",
        "# 1) INSTALAR DEPENDENCIAS (streamlit, control, localtunnel)\n",
        "# =========================================================\n",
        "!pip -q install streamlit==1.34.0 control matplotlib numpy localtunnel\n",
        "\n",
        "# =========================================================\n",
        "# 4) OPCIONAL: LANZAR STREAMLIT + TÚNEL PÚBLICO\n",
        "#      ‑ Comenta estas dos líneas si solo vas a descargar luego\n",
        "# =========================================================\n",
        "import subprocess, json, time, os, textwrap, base64, sys, signal, re, shutil, random, string, math, itertools, functools, pathlib, types, datetime, collections, typing, inspect, importlib, statistics, warnings, contextlib, tempfile, hashlib  # noqa\n",
        "from threading import Thread\n",
        "\n",
        "def run_streamlit():\n",
        "    os.system(\"streamlit run streamlit_app.py --server.headless true &\")\n",
        "\n",
        "def run_tunnel():\n",
        "    os.system(\"lt --port 8501 --print-requests &\")\n",
        "\n",
        "Thread(target=run_streamlit).start()\n",
        "time.sleep(5)  # da tiempo a streamlit a levantar\n",
        "Thread(target=run_tunnel).start()"
      ]
    },
    {
      "cell_type": "code",
      "metadata": {
        "colab": {
          "base_uri": "https://localhost:8080/"
        },
        "id": "c3994bba",
        "outputId": "32bab73d-1355-445f-f489-072925d8858a"
      },
      "source": [
        "!pip install streamlit"
      ],
      "execution_count": 2,
      "outputs": [
        {
          "output_type": "stream",
          "name": "stdout",
          "text": [
            "Collecting streamlit\n",
            "  Downloading streamlit-1.46.1-py3-none-any.whl.metadata (9.0 kB)\n",
            "Requirement already satisfied: altair<6,>=4.0 in /usr/local/lib/python3.11/dist-packages (from streamlit) (5.5.0)\n",
            "Requirement already satisfied: blinker<2,>=1.5.0 in /usr/local/lib/python3.11/dist-packages (from streamlit) (1.9.0)\n",
            "Requirement already satisfied: cachetools<7,>=4.0 in /usr/local/lib/python3.11/dist-packages (from streamlit) (5.5.2)\n",
            "Requirement already satisfied: click<9,>=7.0 in /usr/local/lib/python3.11/dist-packages (from streamlit) (8.2.1)\n",
            "Requirement already satisfied: numpy<3,>=1.23 in /usr/local/lib/python3.11/dist-packages (from streamlit) (2.0.2)\n",
            "Requirement already satisfied: packaging<26,>=20 in /usr/local/lib/python3.11/dist-packages (from streamlit) (24.2)\n",
            "Requirement already satisfied: pandas<3,>=1.4.0 in /usr/local/lib/python3.11/dist-packages (from streamlit) (2.2.2)\n",
            "Requirement already satisfied: pillow<12,>=7.1.0 in /usr/local/lib/python3.11/dist-packages (from streamlit) (11.2.1)\n",
            "Requirement already satisfied: protobuf<7,>=3.20 in /usr/local/lib/python3.11/dist-packages (from streamlit) (5.29.5)\n",
            "Requirement already satisfied: pyarrow>=7.0 in /usr/local/lib/python3.11/dist-packages (from streamlit) (18.1.0)\n",
            "Requirement already satisfied: requests<3,>=2.27 in /usr/local/lib/python3.11/dist-packages (from streamlit) (2.32.3)\n",
            "Requirement already satisfied: tenacity<10,>=8.1.0 in /usr/local/lib/python3.11/dist-packages (from streamlit) (8.5.0)\n",
            "Requirement already satisfied: toml<2,>=0.10.1 in /usr/local/lib/python3.11/dist-packages (from streamlit) (0.10.2)\n",
            "Requirement already satisfied: typing-extensions<5,>=4.4.0 in /usr/local/lib/python3.11/dist-packages (from streamlit) (4.14.0)\n",
            "Collecting watchdog<7,>=2.1.5 (from streamlit)\n",
            "  Downloading watchdog-6.0.0-py3-none-manylinux2014_x86_64.whl.metadata (44 kB)\n",
            "\u001b[2K     \u001b[90m━━━━━━━━━━━━━━━━━━━━━━━━━━━━━━━━━━━━━━━━\u001b[0m \u001b[32m44.3/44.3 kB\u001b[0m \u001b[31m1.8 MB/s\u001b[0m eta \u001b[36m0:00:00\u001b[0m\n",
            "\u001b[?25hRequirement already satisfied: gitpython!=3.1.19,<4,>=3.0.7 in /usr/local/lib/python3.11/dist-packages (from streamlit) (3.1.44)\n",
            "Collecting pydeck<1,>=0.8.0b4 (from streamlit)\n",
            "  Downloading pydeck-0.9.1-py2.py3-none-any.whl.metadata (4.1 kB)\n",
            "Requirement already satisfied: tornado!=6.5.0,<7,>=6.0.3 in /usr/local/lib/python3.11/dist-packages (from streamlit) (6.4.2)\n",
            "Requirement already satisfied: jinja2 in /usr/local/lib/python3.11/dist-packages (from altair<6,>=4.0->streamlit) (3.1.6)\n",
            "Requirement already satisfied: jsonschema>=3.0 in /usr/local/lib/python3.11/dist-packages (from altair<6,>=4.0->streamlit) (4.24.0)\n",
            "Requirement already satisfied: narwhals>=1.14.2 in /usr/local/lib/python3.11/dist-packages (from altair<6,>=4.0->streamlit) (1.45.0)\n",
            "Requirement already satisfied: gitdb<5,>=4.0.1 in /usr/local/lib/python3.11/dist-packages (from gitpython!=3.1.19,<4,>=3.0.7->streamlit) (4.0.12)\n",
            "Requirement already satisfied: python-dateutil>=2.8.2 in /usr/local/lib/python3.11/dist-packages (from pandas<3,>=1.4.0->streamlit) (2.9.0.post0)\n",
            "Requirement already satisfied: pytz>=2020.1 in /usr/local/lib/python3.11/dist-packages (from pandas<3,>=1.4.0->streamlit) (2025.2)\n",
            "Requirement already satisfied: tzdata>=2022.7 in /usr/local/lib/python3.11/dist-packages (from pandas<3,>=1.4.0->streamlit) (2025.2)\n",
            "Requirement already satisfied: charset-normalizer<4,>=2 in /usr/local/lib/python3.11/dist-packages (from requests<3,>=2.27->streamlit) (3.4.2)\n",
            "Requirement already satisfied: idna<4,>=2.5 in /usr/local/lib/python3.11/dist-packages (from requests<3,>=2.27->streamlit) (3.10)\n",
            "Requirement already satisfied: urllib3<3,>=1.21.1 in /usr/local/lib/python3.11/dist-packages (from requests<3,>=2.27->streamlit) (2.4.0)\n",
            "Requirement already satisfied: certifi>=2017.4.17 in /usr/local/lib/python3.11/dist-packages (from requests<3,>=2.27->streamlit) (2025.6.15)\n",
            "Requirement already satisfied: smmap<6,>=3.0.1 in /usr/local/lib/python3.11/dist-packages (from gitdb<5,>=4.0.1->gitpython!=3.1.19,<4,>=3.0.7->streamlit) (5.0.2)\n",
            "Requirement already satisfied: MarkupSafe>=2.0 in /usr/local/lib/python3.11/dist-packages (from jinja2->altair<6,>=4.0->streamlit) (3.0.2)\n",
            "Requirement already satisfied: attrs>=22.2.0 in /usr/local/lib/python3.11/dist-packages (from jsonschema>=3.0->altair<6,>=4.0->streamlit) (25.3.0)\n",
            "Requirement already satisfied: jsonschema-specifications>=2023.03.6 in /usr/local/lib/python3.11/dist-packages (from jsonschema>=3.0->altair<6,>=4.0->streamlit) (2025.4.1)\n",
            "Requirement already satisfied: referencing>=0.28.4 in /usr/local/lib/python3.11/dist-packages (from jsonschema>=3.0->altair<6,>=4.0->streamlit) (0.36.2)\n",
            "Requirement already satisfied: rpds-py>=0.7.1 in /usr/local/lib/python3.11/dist-packages (from jsonschema>=3.0->altair<6,>=4.0->streamlit) (0.26.0)\n",
            "Requirement already satisfied: six>=1.5 in /usr/local/lib/python3.11/dist-packages (from python-dateutil>=2.8.2->pandas<3,>=1.4.0->streamlit) (1.17.0)\n",
            "Downloading streamlit-1.46.1-py3-none-any.whl (10.1 MB)\n",
            "\u001b[2K   \u001b[90m━━━━━━━━━━━━━━━━━━━━━━━━━━━━━━━━━━━━━━━━\u001b[0m \u001b[32m10.1/10.1 MB\u001b[0m \u001b[31m60.9 MB/s\u001b[0m eta \u001b[36m0:00:00\u001b[0m\n",
            "\u001b[?25hDownloading pydeck-0.9.1-py2.py3-none-any.whl (6.9 MB)\n",
            "\u001b[2K   \u001b[90m━━━━━━━━━━━━━━━━━━━━━━━━━━━━━━━━━━━━━━━━\u001b[0m \u001b[32m6.9/6.9 MB\u001b[0m \u001b[31m102.7 MB/s\u001b[0m eta \u001b[36m0:00:00\u001b[0m\n",
            "\u001b[?25hDownloading watchdog-6.0.0-py3-none-manylinux2014_x86_64.whl (79 kB)\n",
            "\u001b[2K   \u001b[90m━━━━━━━━━━━━━━━━━━━━━━━━━━━━━━━━━━━━━━━━\u001b[0m \u001b[32m79.1/79.1 kB\u001b[0m \u001b[31m6.2 MB/s\u001b[0m eta \u001b[36m0:00:00\u001b[0m\n",
            "\u001b[?25hInstalling collected packages: watchdog, pydeck, streamlit\n",
            "Successfully installed pydeck-0.9.1 streamlit-1.46.1 watchdog-6.0.0\n"
          ]
        }
      ]
    },
    {
      "cell_type": "code",
      "metadata": {
        "colab": {
          "base_uri": "https://localhost:8080/"
        },
        "id": "c4e2b102",
        "outputId": "33e7e56e-610c-4acd-d550-d674b2151732"
      },
      "source": [
        "!pip install control numpy matplotlib"
      ],
      "execution_count": 4,
      "outputs": [
        {
          "output_type": "stream",
          "name": "stdout",
          "text": [
            "Collecting control\n",
            "  Downloading control-0.10.2-py3-none-any.whl.metadata (7.6 kB)\n",
            "Requirement already satisfied: numpy in /usr/local/lib/python3.11/dist-packages (2.0.2)\n",
            "Requirement already satisfied: matplotlib in /usr/local/lib/python3.11/dist-packages (3.10.0)\n",
            "Requirement already satisfied: scipy>=1.8 in /usr/local/lib/python3.11/dist-packages (from control) (1.15.3)\n",
            "Requirement already satisfied: contourpy>=1.0.1 in /usr/local/lib/python3.11/dist-packages (from matplotlib) (1.3.2)\n",
            "Requirement already satisfied: cycler>=0.10 in /usr/local/lib/python3.11/dist-packages (from matplotlib) (0.12.1)\n",
            "Requirement already satisfied: fonttools>=4.22.0 in /usr/local/lib/python3.11/dist-packages (from matplotlib) (4.58.4)\n",
            "Requirement already satisfied: kiwisolver>=1.3.1 in /usr/local/lib/python3.11/dist-packages (from matplotlib) (1.4.8)\n",
            "Requirement already satisfied: packaging>=20.0 in /usr/local/lib/python3.11/dist-packages (from matplotlib) (24.2)\n",
            "Requirement already satisfied: pillow>=8 in /usr/local/lib/python3.11/dist-packages (from matplotlib) (11.2.1)\n",
            "Requirement already satisfied: pyparsing>=2.3.1 in /usr/local/lib/python3.11/dist-packages (from matplotlib) (3.2.3)\n",
            "Requirement already satisfied: python-dateutil>=2.7 in /usr/local/lib/python3.11/dist-packages (from matplotlib) (2.9.0.post0)\n",
            "Requirement already satisfied: six>=1.5 in /usr/local/lib/python3.11/dist-packages (from python-dateutil>=2.7->matplotlib) (1.17.0)\n",
            "Downloading control-0.10.2-py3-none-any.whl (578 kB)\n",
            "\u001b[2K   \u001b[90m━━━━━━━━━━━━━━━━━━━━━━━━━━━━━━━━━━━━━━━━\u001b[0m \u001b[32m578.3/578.3 kB\u001b[0m \u001b[31m7.2 MB/s\u001b[0m eta \u001b[36m0:00:00\u001b[0m\n",
            "\u001b[?25hInstalling collected packages: control\n",
            "Successfully installed control-0.10.2\n"
          ]
        }
      ]
    },
    {
      "cell_type": "code",
      "metadata": {
        "colab": {
          "base_uri": "https://localhost:8080/"
        },
        "id": "c682a246-e228-40f2-a1f1-2c22b7397305",
        "outputId": "c7815c38-fdb4-4fba-dcee-ece4e79f6fae"
      },
      "source": [
        "# =========================================================\n",
        "# 2) CREAR STREAMLIT_APP.PY\n",
        "# =========================================================\n",
        "%%writefile streamlit_app.py\n",
        "import streamlit as st\n",
        "import numpy as np\n",
        "import matplotlib.pyplot as plt\n",
        "import control\n",
        "\n",
        "# ────────────────────────────────────────────────────────\n",
        "# Configuración general\n",
        "# ────────────────────────────────────────────────────────\n",
        "st.set_page_config(page_title=\"Simulación MRS / RLC\", layout=\"wide\")\n",
        "st.title(\"Panel interactivo: Masa‑Resorte‑Amortiguador ⇄ Circuito RLC\")\n",
        "\n",
        "# ────────────────────────────────────────────────────────\n",
        "# Barra lateral: selección de tipo de respuesta y parámetros\n",
        "# ────────────────────────────────────────────────────────\n",
        "st.sidebar.header(\"Parámetros del sistema\")\n",
        "\n",
        "resp_map = {\n",
        "    \"Subamortiguada (0 < ζ < 1)\": 0.3,\n",
        "    \"Sobreamortiguada (ζ > 1)\":     1.5,\n",
        "    \"Críticamente amortiguada (ζ = 1)\": 1.0,\n",
        "    \"Inestable (ζ < 0)\":           -0.2,\n",
        "}\n",
        "resp_type = st.sidebar.selectbox(\"Tipo de respuesta\", list(resp_map.keys()))\n",
        "default_zeta = resp_map[resp_type]\n",
        "zeta = st.sidebar.slider(\"ζ (factor de amortiguamiento)\", -0.5, 2.5, default_zeta, step=0.05)\n",
        "wn   = st.sidebar.slider(\"ωₙ (rad/s)\", 1.0, 50.0, 5.0)\n",
        "\n",
        "# ────────────────────────────────────────────────────────\n",
        "# Función de transferencia (lazo abierto)\n",
        "# ────────────────────────────────────────────────────────\n",
        "num = [1.0]\n",
        "den = [1.0, 2*zeta*wn, wn**2]\n",
        "G   = control.TransferFunction(num, den)\n",
        "\n",
        "st.subheader(\"Función de transferencia (lazo abierto)\")\n",
        "st.latex(r\"H(s)=\\dfrac{1}{s^{2}+2\\zeta\\omega_n s+\\omega_n^{2}}\")\n",
        "st.write(f\"Denominador numérico: {den}\")\n",
        "\n",
        "# ────────────────────────────────────────────────────────\n",
        "# Respuestas temporales\n",
        "# ────────────────────────────────────────────────────────\n",
        "T_end = 10/wn         # horizonte hasta ~5 períodos\n",
        "T     = np.linspace(0, T_end, 1000)\n",
        "t_step, y_step     = control.step_response(G, T)\n",
        "t_imp , y_imp      = control.impulse_response(G, T)\n",
        "\n",
        "# ────────────────────────────────────────────────────────\n",
        "# Bode (mag, phase, ω)\n",
        "# ────────────────────────────────────────────────────────\n",
        "mag, phase, omega  = control.bode(G, dB=True, Plot=False)\n",
        "mag   = np.squeeze(mag)\n",
        "phase = np.squeeze(phase)\n",
        "\n",
        "# ────────────────────────────────────────────────────────\n",
        "# Polos y ceros\n",
        "# ────────────────────────────────────────────────────────\n",
        "poles = control.pole(G)\n",
        "zeros = control.zero(G)\n",
        "\n",
        "# ────────────────────────────────────────────────────────\n",
        "# Gráficas\n",
        "# ────────────────────────────────────────────────────────\n",
        "col1, col2 = st.columns(2)\n",
        "\n",
        "with col1:\n",
        "    st.subheader(\"Respuesta al escalón\")\n",
        "    fig1, ax1 = plt.subplots()\n",
        "    ax1.plot(t_step, y_step)\n",
        "    ax1.set_xlabel(\"t [s]\");  ax1.set_ylabel(\"Salida\")\n",
        "    ax1.grid(True)\n",
        "    st.pyplot(fig1)\n",
        "\n",
        "with col2:\n",
        "    st.subheader(\"Respuesta al impulso\")\n",
        "    fig2, ax2 = plt.subplots()\n",
        "    ax2.plot(t_imp, y_imp)\n",
        "    ax2.set_xlabel(\"t [s]\");  ax2.set_ylabel(\"Salida\")\n",
        "    ax2.grid(True)\n",
        "    st.pyplot(fig2)\n",
        "\n",
        "st.subheader(\"Diagrama de Bode\")\n",
        "fig3, (axm, axp) = plt.subplots(2, 1, figsize=(6,6))\n",
        "axm.semilogx(omega, 20*np.log10(mag)); axm.set_ylabel(\"Magnitud [dB]\"); axm.grid(True, which=\"both\")\n",
        "axp.semilogx(omega, np.degrees(phase)); axp.set_xlabel(\"ω [rad/s]\"); axp.set_ylabel(\"Fase [°]\"); axp.grid(True, which=\"both\")\n",
        "st.pyplot(fig3)\n",
        "\n",
        "st.subheader(\"Polos y ceros\")\n",
        "fig4, ax4 = plt.subplots()\n",
        "ax4.scatter(np.real(poles), np.imag(poles), marker=\"x\", color=\"red\", label=\"Polos\")\n",
        "if zeros.size:\n",
        "    ax4.scatter(np.real(zeros), np.imag(zeros), marker=\"o\", facecolors=\"none\", edgecolors=\"blue\", label=\"Ceros\")\n",
        "ax4.axhline(0, color=\"black\"); ax4.axvline(0, color=\"black\")\n",
        "ax4.set_xlabel(\"Re{s}\"); ax4.set_ylabel(\"Im{s}\")\n",
        "ax4.grid(True);  ax4.legend()\n",
        "st.pyplot(fig4)\n",
        "\n",
        "# ────────────────────────────────────────────────────────\n",
        "# Parámetros temporales (step_info)\n",
        "# ────────────────────────────────────────────────────────\n",
        "try:\n",
        "    info = control.step_info(G)\n",
        "    st.subheader(\"Parámetros temporales\")\n",
        "    st.write({k: round(v, 4) for k, v in info.items()})\n",
        "except Exception as e:\n",
        "    st.warning(f\"No se pudo calcular step_info: {e}\")\n",
        "\n",
        "# ────────────────────────────────────────────────────────\n",
        "# Equivalencia mecánico ⟷ eléctrico\n",
        "# ────────────────────────────────────────────────────────\n",
        "m = 1.0\n",
        "c = 2*zeta*wn*m\n",
        "k = wn**2*m\n",
        "C = 1.0\n",
        "L = m / C\n",
        "R = np.inf if c==0 else 2*L / c\n",
        "\n",
        "st.subheader(\"Equivalencia componentes MRS ↔ RLC\")\n",
        "st.markdown(f\"\"\"\n",
        "**Mecánico**\n",
        "- m = {m:.2f} kg\n",
        "- c = {c:.2f} N s/m\n",
        "- k = {k:.2f} N/m\n",
        "\n",
        "**Eléctrico equivalente**\n",
        "- R = {'∞' if R==np.inf else f'{R:.2f} Ω'}\n",
        "- L = {L:.2f} H\n",
        "- C = {C:.2f} F\n",
        "\"\"\")"
      ],
      "execution_count": 12,
      "outputs": [
        {
          "output_type": "stream",
          "name": "stdout",
          "text": [
            "Writing streamlit_app.py\n"
          ]
        }
      ]
    },
    {
      "cell_type": "code",
      "metadata": {
        "colab": {
          "base_uri": "https://localhost:8080/"
        },
        "id": "411c7486-e383-4966-b069-e7518488082d",
        "outputId": "b6b945a6-c1ae-4847-a4be-0532bd3d3f32"
      },
      "source": [
        "# =========================================================\n",
        "# 3) CREAR REQUIREMENTS.TXT\n",
        "# =========================================================\n",
        "%%writefile requirements.txt\n",
        "streamlit==1.34.0\n",
        "control\n",
        "matplotlib\n",
        "numpy"
      ],
      "execution_count": 14,
      "outputs": [
        {
          "output_type": "stream",
          "name": "stdout",
          "text": [
            "Writing requirements.txt\n"
          ]
        }
      ]
    }
  ]
}