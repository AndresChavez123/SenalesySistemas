{
  "nbformat": 4,
  "nbformat_minor": 0,
  "metadata": {
    "colab": {
      "provenance": [],
      "include_colab_link": true
    },
    "kernelspec": {
      "display_name": "Python 3",
      "language": "python",
      "name": "python3"
    },
    "language_info": {
      "codemirror_mode": {
        "name": "ipython",
        "version": 3
      },
      "file_extension": ".py",
      "mimetype": "text/x-python",
      "name": "python",
      "nbconvert_exporter": "python",
      "pygments_lexer": "ipython3",
      "version": "3.7.1"
    }
  },
  "cells": [
    {
      "cell_type": "markdown",
      "metadata": {
        "id": "view-in-github",
        "colab_type": "text"
      },
      "source": [
        "<a href=\"https://colab.research.google.com/github/AndresChavez123/SenalesySistemas/blob/main/Copia_de_1_Respuesta_Impulso_ejercicios_resueltos.ipynb\" target=\"_parent\"><img src=\"https://colab.research.google.com/assets/colab-badge.svg\" alt=\"Open In Colab\"/></a>"
      ]
    },
    {
      "cell_type": "markdown",
      "metadata": {
        "id": "DWA02Xu-Agmz",
        "nbsphinx": "hidden"
      },
      "source": [
        "# Caracterización de sistemas lineales e invariantes en el tiempo"
      ]
    },
    {
      "cell_type": "markdown",
      "metadata": {
        "id": "8EHzTYWPAgm6"
      },
      "source": [
        "## Respuesta al Impulso\n",
        "\n",
        "- La respuesta $y(t)$ de un sistema lineal e invariante en el tiempo (SLIT) $\\mathsf{H}\\{\\cdot\\}$ respecto a una señal de entrada arbitraria $x(t),$ se puede obtner con base a la integral de convolución utilizando la [respuesta al impulso](https://en.wikipedia.org/wiki/Linear_time-invariant_system).\n",
        "\n",
        "- La señal de entrada se puede representar como una integral cuando se aplica la propiedad de selectividad del impulso de Dirac:\n",
        "\n",
        "\\begin{equation}\n",
        "x(t) = \\int_{-\\infty}^{\\infty} x(\\tau) \\cdot \\delta(t-\\tau) \\; d \\tau\n",
        "\\end{equation}\n",
        "\n",
        "- Empleando la relación anterior para la señal de entrada $x(t)$ sobre la señal de salida $y(t)=\\mathsf{H}\\{x(t)\\}$ del sistema, se tiene que:\n",
        "\n",
        "\\begin{equation}\n",
        "y(t) = \\mathsf{H} \\left\\{ \\int_{-\\infty}^{\\infty} x(\\tau) \\cdot \\delta(t-\\tau) \\; d \\tau \\right\\}\n",
        "\\end{equation}\n",
        "\n",
        "donde $\\mathsf{H}\\{\\cdot\\}$ denota el operador de respuesta del sistema. El operador de integración y respuesta del sistema se pueden intercambiar bajo el supuesto de que el sistema es lineal:\n",
        "\n",
        "\\begin{equation}\n",
        "y(t) = \\int_{-\\infty}^{\\infty}  x(\\tau) \\cdot \\mathsf{H} \\left\\{ \\delta(t-\\tau) \\right\\} \\; d \\tau\n",
        "\\end{equation}\n",
        "\n",
        "donde $\\mathsf{H}\\{\\cdot\\}$ solo se aplica al impulso de Dirac, ya que $x(\\tau)$ puede considerarse como un factor constante con respecto al tiempo $t$. Se hace evidente que la respuesta de un sistema a un impulso de Dirac juega un papel importante en el cálculo de la señal de salida para señales de entrada arbitrarias.\n",
        "\n",
        "La respuesta de un sistema ante un impulso de dirac como entrada, se denomina [*respuesta al impulso*](https://en.wikipedia.org/wiki/Impulse_response). Se define como\n",
        "\n",
        "\\begin{equation}\n",
        "h(t) = \\mathsf{H} \\left\\{ \\delta(t) \\right\\}\n",
        "\\end{equation}\n",
        "\n",
        "Si el sistema es invariante en el tiempo, la respuesta a un impulso Dirac desplazado es $\\mathsf{H}\\left\\{\\delta(t-\\tau)\\right\\} = h(t-\\tau)$. Por lo tanto, para un SLIT se tiene que:\n",
        "\n",
        "\\begin{equation}\n",
        "y(t) = \\int_{-\\infty}^{\\infty}  x(\\tau) \\cdot h(t-\\tau) \\; d \\tau\n",
        "\\end{equation}\n",
        "\n",
        "La anterior operación se relaciona directamente con el operador [*convolución*](https://en.wikipedia.org/wiki/Convolution), definido $y(t)=x(t)*h(t)$.\n",
        "\n",
        "Se puede concluir que las propiedades de un SLIT están completamente caracterizadas por su respuesta al impulso.\n",
        "\n",
        "La respuesta $y(t)$ de un sistema a una señal de entrada arbitraria $x(t)$ está dada por la convolución de la señal de entrada $x(t)$ con su respuesta de impulso $h(t)$."
      ]
    },
    {
      "cell_type": "markdown",
      "metadata": {
        "id": "E-epKcIaAgm8"
      },
      "source": [
        "**Ejemplo**\n",
        "\n",
        "El siguiente ejemplo considera un SLIT cuya relación entre la entrada $x(t)$ y la salida $y(t)$ está dada por una ecuación diferencial ordinaria (EDO) con coeficientes constantes\n",
        "\n",
        "\\begin{equation}\n",
        "\\frac{d}{dt} y(t)+ y(t) = x(t)\n",
        "\\end{equation}\n",
        "\n",
        "La respuesta del sistema para la señal de entrada $x(t)=e^{-2t}\\cdot\\epsilon(t)$ se puede calcular mediante:\n",
        "\n",
        "1. Se resuelve la [EDO](https://en.wikipedia.org/wiki/Ordinary_differential_equation).\n",
        "2. Se calcula la respuesta al impulso $h(t)$ y se realiza la convolución con la entrada.\n",
        "\n",
        "Generalmente se asumen condiciones iniciales $y(t)\\big\\vert_{t=0-}=0$ y $\\frac{d}{dt}y(t)\\big\\vert_{t=0-}=0 $.\n",
        "\n",
        "Primero, se define la EDO en `SymPy`"
      ]
    },
    {
      "cell_type": "code",
      "metadata": {
        "colab": {
          "base_uri": "https://localhost:8080/",
          "height": 52
        },
        "id": "4BpQ4YsZAgm_",
        "outputId": "64d9ddae-9c45-4f54-dc8e-59070851063a"
      },
      "source": [
        "%matplotlib inline\n",
        "import sympy as sym\n",
        "sym.init_printing()\n",
        "\n",
        "t = sym.symbols('t', real=True)\n",
        "x = sym.Function('x')(t)\n",
        "y = sym.Function('y')(t)\n",
        "\n",
        "ode = sym.Eq(y + y.diff(t) , x)#definir ecuacion en simpy con operador diferencial diff\n",
        "ode"
      ],
      "execution_count": null,
      "outputs": [
        {
          "output_type": "execute_result",
          "data": {
            "text/plain": [
              "       d              \n",
              "y(t) + ──(y(t)) = x(t)\n",
              "       dt             "
            ],
            "text/latex": "$\\displaystyle y{\\left(t \\right)} + \\frac{d}{d t} y{\\left(t \\right)} = x{\\left(t \\right)}$"
          },
          "metadata": {},
          "execution_count": 1
        }
      ]
    },
    {
      "cell_type": "markdown",
      "metadata": {
        "id": "TGrUvUlIAgnP"
      },
      "source": [
        "La EDO se resuelve para la señal de entrada dada con el fin de calcular la señal de salida. La constante de integración se calcula de forma que la solución cumpla las condiciones iniciales."
      ]
    },
    {
      "cell_type": "code",
      "metadata": {
        "colab": {
          "base_uri": "https://localhost:8080/",
          "height": 38
        },
        "id": "Qm0ztn5BAgnS",
        "outputId": "31a82e92-711b-44e5-d4a6-85130cedaefc"
      },
      "source": [
        "solution = sym.dsolve(ode.subs(x, sym.exp(-2*t)*sym.Heaviside(t)))#resolver edo ante entrada x(t)\n",
        "#se definin condiciones iniciales 0\n",
        "integration_constants = sym.solve( (solution.rhs.limit(t, 0, '-'), solution.rhs.diff(t).limit(t, 0, '-')), 'C1' )\n",
        "y1 = solution.subs(integration_constants)\n",
        "y1"
      ],
      "execution_count": null,
      "outputs": [
        {
          "output_type": "execute_result",
          "data": {
            "text/plain": [
              "       ⎛        -t     ⎞  -t\n",
              "y(t) = ⎝θ(t) - ℯ  ⋅θ(t)⎠⋅ℯ  "
            ],
            "text/latex": "$\\displaystyle y{\\left(t \\right)} = \\left(\\theta\\left(t\\right) - e^{- t} \\theta\\left(t\\right)\\right) e^{- t}$"
          },
          "metadata": {},
          "execution_count": 2
        }
      ]
    },
    {
      "cell_type": "markdown",
      "metadata": {
        "id": "GCQz-z6jAgnb"
      },
      "source": [
        "Se grafica la solución de la EDO"
      ]
    },
    {
      "cell_type": "code",
      "metadata": {
        "colab": {
          "base_uri": "https://localhost:8080/",
          "height": 484
        },
        "id": "fLKlj4_HAgnd",
        "outputId": "40d43215-f3e8-435d-dbc1-ffa95e2ef74f"
      },
      "source": [
        "sym.plot(y1.rhs, (t,-1,10), ylabel=r'$y(t)$');"
      ],
      "execution_count": null,
      "outputs": [
        {
          "output_type": "display_data",
          "data": {
            "text/plain": [
              "<Figure size 640x480 with 1 Axes>"
            ],
            "image/png": "[encoded data removed]"
          },
          "metadata": {}
        }
      ]
    },
    {
      "cell_type": "markdown",
      "metadata": {
        "id": "Dn-Ye_pWAgnm"
      },
      "source": [
        "La respuesta al impulso $h(t)$ se puede calcular resolviendo la EDO para un impulso de Dirac como señal de entrada, $x(t)=\\delta(t)$."
      ]
    },
    {
      "cell_type": "code",
      "metadata": {
        "colab": {
          "base_uri": "https://localhost:8080/",
          "height": 38
        },
        "id": "eiyUSZjIAgno",
        "outputId": "156d26a6-b618-4d70-bf8d-5a5d46a66244"
      },
      "source": [
        "h = sym.Function('h')(t)\n",
        "solution2 = sym.dsolve(ode.subs(x, sym.DiracDelta(t)).subs(y, h))#resolver para delta dirac\n",
        "integration_constants = sym.solve( (solution2.rhs.limit(t, 0, '-'), solution2.rhs.diff(t).limit(t, 0, '-')), 'C1' )\n",
        "h = solution2.subs(integration_constants)\n",
        "h"
      ],
      "execution_count": null,
      "outputs": [
        {
          "output_type": "execute_result",
          "data": {
            "text/plain": [
              "        -t     \n",
              "h(t) = ℯ  ⋅θ(t)"
            ],
            "text/latex": "$\\displaystyle h{\\left(t \\right)} = e^{- t} \\theta\\left(t\\right)$"
          },
          "metadata": {},
          "execution_count": 4
        }
      ]
    },
    {
      "cell_type": "markdown",
      "metadata": {
        "id": "ArILc1haAgnz"
      },
      "source": [
        "Se grafica la respuesta al impulso $h(t)$ del SLIT:"
      ]
    },
    {
      "cell_type": "code",
      "metadata": {
        "colab": {
          "base_uri": "https://localhost:8080/",
          "height": 484
        },
        "id": "qyMYEIPyAgn1",
        "outputId": "f07901d1-646c-43f6-cab0-4c42118c950c"
      },
      "source": [
        "sym.plot(h.rhs, (t,-1,10), ylabel=r'$h(t)$');"
      ],
      "execution_count": null,
      "outputs": [
        {
          "output_type": "display_data",
          "data": {
            "text/plain": [
              "<Figure size 640x480 with 1 Axes>"
            ],
            "image/png": "[encoded data removed]"
          },
          "metadata": {}
        }
      ]
    },
    {
      "cell_type": "markdown",
      "metadata": {
        "id": "Bxb3Ld_qAgn-"
      },
      "source": [
        "Como alternativa a la solución explícita de la EDO, la respuesta del sistema se calcula evaluando la convolución $y(t)=x(t)*h(t)$.\n",
        "\n",
        "**Nota**:Dado que `SymPy` no puede manejar la función Heaviside de manera adecuada en las integrales, la integral de convolución se simplifica primero. Tanto la señal de entrada $x(t)$ como la respuesta de impulso $h(t)$ son señales causales. Por lo tanto, la integral de convolución resulta en\n",
        "\n",
        "\\begin{equation}\n",
        "y(t) = \\int_{0}^{t} x(\\tau) \\cdot h(t - \\tau) \\; d\\tau\n",
        "\\end{equation}\n",
        "\n",
        "Para $t\\geq0$. Observe que $y(t)=0$ para $t<0$."
      ]
    },
    {
      "cell_type": "code",
      "metadata": {
        "colab": {
          "base_uri": "https://localhost:8080/",
          "height": 38
        },
        "id": "Nur3pq9cAgoA",
        "outputId": "a26f6725-3132-4f8f-ac1a-ec3ba90247e9"
      },
      "source": [
        "tau = sym.symbols('tau', real=True)\n",
        "\n",
        "y2 = sym.integrate(sym.exp(-2*tau) * h.rhs.subs(sym.Heaviside(t), 1).subs(t, t-tau), (tau, 0, t))\n",
        "y2"
      ],
      "execution_count": null,
      "outputs": [
        {
          "output_type": "execute_result",
          "data": {
            "text/plain": [
              " -t    -2⋅t\n",
              "ℯ   - ℯ    "
            ],
            "text/latex": "$\\displaystyle e^{- t} - e^{- 2 t}$"
          },
          "metadata": {},
          "execution_count": 6
        }
      ]
    },
    {
      "cell_type": "markdown",
      "metadata": {
        "id": "7m3M1svAAgoK"
      },
      "source": [
        "Se grafica la señal de salida obtenida mediante el proceso de convolución:"
      ]
    },
    {
      "cell_type": "code",
      "metadata": {
        "colab": {
          "base_uri": "https://localhost:8080/",
          "height": 484
        },
        "id": "HzZsSTRAAgoM",
        "outputId": "c80633fb-8e32-4aa5-d342-db4740514dae"
      },
      "source": [
        "sym.plot(y2, (t,0,10), ylabel=r'$y(t)$');"
      ],
      "execution_count": null,
      "outputs": [
        {
          "output_type": "display_data",
          "data": {
            "text/plain": [
              "<Figure size 640x480 with 1 Axes>"
            ],
            "image/png": "[encoded data removed]"
          },
          "metadata": {}
        }
      ]
    },
    {
      "cell_type": "markdown",
      "metadata": {
        "id": "e6YWym8VAgoT"
      },
      "source": [
        "**Ejercicio**\n",
        "\n",
        "* Compare la señal de salida obtenida al resolver la EDO con la obtenida mediante la convolución. Son iguales?\n",
        "* Compruebe la solución $h(t)$ de la EDO cuando $x(t)=\\delta(t)$ de manera manual. Tener en cuenta que $\\frac{d}{dt} \\epsilon(t) = \\delta(t)$.\n",
        "* Comprobar la solución de la integral de convolución de manera manual. Tener en cuenta las funciones Heaviside."
      ]
    },
    {
      "cell_type": "markdown",
      "source": [
        "\n",
        "**Compare la señal de salida obtenida al resolver la EDO con la obtenida mediante la convolución. Son iguales?**\n",
        "\n",
        "\n",
        " Señal de entrada usada\n",
        "𝑥\n",
        "(\n",
        "𝑡\n",
        ")\n",
        "=\n",
        "𝑒\n",
        "−\n",
        "2\n",
        "𝑡\n",
        "⋅\n",
        "𝑢\n",
        "(\n",
        "𝑡\n",
        ")\n",
        "\n",
        "Es una señal exponencial decreciente, causal (definida solo para\n",
        "𝑡\n",
        "≥\n",
        "0).\n",
        "\n",
        "Resolución de la EDO\n",
        "La ecuación diferencial es:\n",
        "\n",
        "𝑑 /\n",
        "𝑑\n",
        "𝑡\n",
        "𝑦\n",
        "(\n",
        "𝑡\n",
        ")\n",
        "+\n",
        "𝑦\n",
        "(\n",
        "𝑡\n",
        ")\n",
        "=\n",
        "𝑥\n",
        "(\n",
        "𝑡\n",
        ")\n",
        "\n",
        "Al resolverla directamente con condiciones iniciales nulas, se obtuvo:\n",
        "\n",
        "𝑦\n",
        "(\n",
        "𝑡\n",
        ")\n",
        "=\n",
        "(\n",
        "1\n",
        "−\n",
        "𝑒\n",
        "−\n",
        "𝑡\n",
        ")\n",
        "𝑒\n",
        "−\n",
        "𝑡\n",
        "⋅\n",
        "𝑢\n",
        "(\n",
        "𝑡\n",
        ")\n",
        "\n",
        "Comparación\n",
        "Ambas expresiones son:\n",
        "\n",
        "EDO:\n",
        "𝑦\n",
        "(\n",
        "𝑡\n",
        ")\n",
        "=\n",
        "(\n",
        "1\n",
        "−\n",
        "𝑒\n",
        "−\n",
        "𝑡\n",
        ")\n",
        "𝑒\n",
        "−\n",
        "𝑡\n",
        "\n",
        "\n",
        "Convolución:\n",
        "𝑦\n",
        "(\n",
        "𝑡\n",
        ")\n",
        "=\n",
        "𝑒\n",
        "−\n",
        "𝑡\n",
        "−\n",
        "𝑒\n",
        "−\n",
        "2\n",
        "𝑡\n",
        "\n",
        "\n",
        "\n",
        "Y algebraicamente:\n",
        "\n",
        "(\n",
        "1\n",
        "−\n",
        "𝑒\n",
        "−\n",
        "𝑡\n",
        ")\n",
        "𝑒\n",
        "−\n",
        "𝑡\n",
        "=\n",
        "𝑒\n",
        "−\n",
        "𝑡\n",
        "−\n",
        "𝑒\n",
        "−\n",
        "2\n",
        "𝑡\n",
        "\n",
        "\n",
        "\n",
        "✔️ Son exactamente iguales."
      ],
      "metadata": {
        "id": "58TuDqR2qah1"
      }
    },
    {
      "cell_type": "markdown",
      "source": [
        "**Compruebe la solución  h(t)  de la EDO cuando  x(t)=δ(t)  de manera manual. Tener en cuenta que  d/dtϵ(t)=δ(t) .**"
      ],
      "metadata": {
        "id": "6-0HWflTqbEt"
      }
    },
    {
      "cell_type": "markdown",
      "source": [
        " Resumen de la comprobación manual:\n",
        "EDO:\n",
        "𝑑 /\n",
        "𝑑\n",
        "𝑡\n",
        "ℎ\n",
        "(\n",
        "𝑡\n",
        ")\n",
        "+\n",
        "ℎ\n",
        "(\n",
        "𝑡\n",
        ")\n",
        "=\n",
        "𝛿\n",
        "(\n",
        "𝑡\n",
        ")\n",
        "\n",
        "Suposición:\n",
        "ℎ\n",
        "(\n",
        "𝑡\n",
        ")\n",
        "=\n",
        "𝐴\n",
        "𝑒\n",
        "−\n",
        "𝑡\n",
        "𝑢\n",
        "(\n",
        "𝑡\n",
        ")\n",
        "\n",
        "Derivada:\n",
        "𝑑\n",
        "𝑑\n",
        "𝑡\n",
        "ℎ\n",
        "(\n",
        "𝑡\n",
        ")\n",
        "=\n",
        "𝐴\n",
        "(\n",
        "−\n",
        "𝑒\n",
        "−\n",
        "𝑡\n",
        "𝑢\n",
        "(\n",
        "𝑡\n",
        ")\n",
        "+\n",
        "𝑒\n",
        "−\n",
        "𝑡\n",
        "𝛿\n",
        "(\n",
        "𝑡\n",
        ")\n",
        ")\n",
        "dt\n",
        "\n",
        "Sustituyendo en la EDO:\n",
        "\n",
        "𝑑\n",
        "𝑑\n",
        "𝑡\n",
        "ℎ\n",
        "(\n",
        "𝑡\n",
        ")\n",
        "+\n",
        "ℎ\n",
        "(\n",
        "𝑡\n",
        ")\n",
        "=\n",
        "𝐴\n",
        "𝑒\n",
        "−\n",
        "𝑡\n",
        "𝛿\n",
        "(\n",
        "𝑡\n",
        ")\n",
        "=\n",
        "𝛿\n",
        "(\n",
        "𝑡\n",
        ")\n",
        "⇒\n",
        "𝐴\n",
        "=\n",
        "1\n",
        "\n",
        "esultado final:\n",
        "ℎ\n",
        "(\n",
        "𝑡\n",
        ")\n",
        "=\n",
        "𝑒\n",
        "−\n",
        "𝑡\n",
        "𝑢\n",
        "(\n",
        "𝑡\n",
        ")\n",
        "\n",
        "\n"
      ],
      "metadata": {
        "id": "uqbSNdamrYcE"
      }
    },
    {
      "cell_type": "markdown",
      "source": [
        "**Comprobar la solución de la integral de convolución de manera manual. Tener en cuenta las funciones Heaviside.**"
      ],
      "metadata": {
        "id": "cn5lko_CsNMJ"
      }
    },
    {
      "cell_type": "markdown",
      "source": [
        "Entrada:\n",
        "𝑥\n",
        "(\n",
        "𝑡\n",
        ")\n",
        "=\n",
        "𝑒\n",
        "−\n",
        "2\n",
        "𝑡\n",
        "⋅\n",
        "𝑢\n",
        "(\n",
        "𝑡\n",
        ")\n",
        "\n",
        "\n",
        "Respuesta al impulso:\n",
        "ℎ\n",
        "(\n",
        "𝑡\n",
        ")\n",
        "=\n",
        "𝑒\n",
        "−\n",
        "𝑡\n",
        "⋅\n",
        "𝑢\n",
        "(\n",
        "𝑡\n",
        ")\n",
        "\n",
        "\n",
        "Convolución:\n",
        "𝑦\n",
        "(\n",
        "𝑡\n",
        ")\n",
        "=\n",
        "∫\n",
        "0\n",
        "𝑡\n",
        "𝑒\n",
        "−\n",
        "2\n",
        "𝜏\n",
        "⋅\n",
        "𝑒\n",
        "−\n",
        "(\n",
        "𝑡\n",
        "−\n",
        "𝜏\n",
        ")\n",
        "\n",
        "𝑑\n",
        "𝜏\n",
        "=\n",
        "𝑒\n",
        "−\n",
        "𝑡\n",
        "∫\n",
        "0\n",
        "𝑡\n",
        "𝑒\n",
        "−\n",
        "𝜏\n",
        "\n",
        "𝑑\n",
        "𝜏\n",
        "\n",
        "=e\n",
        "−t\n",
        " (1−e\n",
        "−t\n",
        " )=e\n",
        "−t\n",
        " −e\n",
        "−2t\n",
        "\n",
        "Resultado final:\n",
        "𝑦\n",
        "(\n",
        "𝑡\n",
        ")\n",
        "=\n",
        "(\n",
        "𝑒\n",
        "−\n",
        "𝑡\n",
        "−\n",
        "𝑒\n",
        "−\n",
        "2\n",
        "𝑡\n",
        ")\n",
        "⋅\n",
        "𝑢\n",
        "(\n",
        "𝑡\n",
        ")\n"
      ],
      "metadata": {
        "id": "KxmQqLWJsuEG"
      }
    },
    {
      "cell_type": "code",
      "source": [
        "from scipy.signal import lti, lsim, impulse, convolve\n",
        "import numpy as np\n",
        "import matplotlib.pyplot as plt\n",
        "\n",
        "# Definir sistema LTI (ejemplo): y'' + 3y' + 2y = x(t)\n",
        "# Coeficientes del denominador (de y): s^2 + 3s + 2\n",
        "# Coeficientes del numerador (de x): 1\n",
        "num = [1]        # Numerador (input)\n",
        "den = [1, 3, 2]   # Denominador (output)\n",
        "\n",
        "sistema = lti(num, den)\n",
        "\n",
        "# Tiempo\n",
        "t = np.linspace(0, 10, 1000)\n",
        "\n",
        "# Señal de entrada (ejemplo): escalón unitario\n",
        "x = np.ones_like(t)\n",
        "\n",
        "# Respuesta directa con lsim (resolviendo la EDO)\n",
        "t1, y1, _ = lsim(sistema, U=x, T=t)\n",
        "\n",
        "# Obtener respuesta impulsiva\n",
        "t2, h = impulse(sistema, T=t)\n",
        "\n",
        "# Convolución: y(t) = x(t) * h(t)\n",
        "dt = t[1] - t[0]\n",
        "y2 = convolve(x, h)[:len(t)] * dt  # Ajustar tamaño y multiplicar por dt\n",
        "\n",
        "# Comparar gráficamente\n",
        "plt.plot(t1, y1, label='Salida EDO (lsim)')\n",
        "plt.plot(t, y2, '--', label='Convolución x*h')\n",
        "plt.title('Comparación: EDO vs Convolución')\n",
        "plt.xlabel('Tiempo [s]')\n",
        "plt.ylabel('Amplitud')\n",
        "plt.legend()\n",
        "plt.grid(True)\n",
        "plt.show()\n"
      ],
      "metadata": {
        "colab": {
          "base_uri": "https://localhost:8080/",
          "height": 472
        },
        "id": "qktPqQp7vfpx",
        "outputId": "ac8108eb-0734-461c-e656-3587cfdd8409"
      },
      "execution_count": 1,
      "outputs": [
        {
          "output_type": "display_data",
          "data": {
            "text/plain": [
              "<Figure size 640x480 with 1 Axes>"
            ],
            "image/png": "[encoded data removed]"
          },
          "metadata": {}
        }
      ]
    },
    {
      "cell_type": "code",
      "source": [
        "# Ya lo hicimos con scipy.signal.impulse:\n",
        "t2, h = impulse(sistema, T=t)\n",
        "\n",
        "# Graficar h(t)\n",
        "plt.plot(t2, h)\n",
        "plt.title('Respuesta impulsiva h(t)')\n",
        "plt.xlabel('Tiempo [s]')\n",
        "plt.ylabel('h(t)')\n",
        "plt.grid(True)\n",
        "plt.show()\n"
      ],
      "metadata": {
        "colab": {
          "base_uri": "https://localhost:8080/",
          "height": 472
        },
        "id": "sY9o28cdvttA",
        "outputId": "80283ee5-6d3f-4f20-9469-599f27db8c41"
      },
      "execution_count": 2,
      "outputs": [
        {
          "output_type": "display_data",
          "data": {
            "text/plain": [
              "<Figure size 640x480 with 1 Axes>"
            ],
            "image/png": "[encoded data removed]"
          },
          "metadata": {}
        }
      ]
    },
    {
      "cell_type": "markdown",
      "metadata": {
        "id": "ZavLa5BxAgoV",
        "nbsphinx": "hidden"
      },
      "source": [
        "**Copyright**\n",
        "\n",
        "The notebooks are provided as [Open Educational Resource](https://de.wikipedia.org/wiki/Open_Educational_Resources). Feel free to use the notebooks for your own educational purposes. The text is licensed under [Creative Commons Attribution 4.0](https://creativecommons.org/licenses/by/4.0/), the code of the IPython examples under the [MIT license](https://opensource.org/licenses/MIT). Please attribute the work as follows: *Lecture Notes on Signals and Systems* by Sascha Spors."
      ]
    }
  ]
}